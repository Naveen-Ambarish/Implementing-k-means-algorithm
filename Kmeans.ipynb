{
  "nbformat": 4,
  "nbformat_minor": 0,
  "metadata": {
    "colab": {
      "name": "Kmeans.ipynb",
      "provenance": [],
      "collapsed_sections": []
    },
    "kernelspec": {
      "name": "python3",
      "display_name": "Python 3"
    },
    "language_info": {
      "name": "python"
    }
  },
  "cells": [
    {
      "cell_type": "code",
      "metadata": {
        "id": "8NTt5Q959F1X"
      },
      "source": [
        "# importing all the necessary libraries\n",
        "import matplotlib.pyplot as plt\n",
        "import numpy as np\n",
        "import pandas as pd\n",
        "import random\n",
        "from sklearn.metrics import accuracy_score as err\n",
        "from sklearn.model_selection import train_test_split\n",
        "from scipy.spatial import distance"
      ],
      "execution_count": 17,
      "outputs": []
    },
    {
      "cell_type": "code",
      "metadata": {
        "id": "_9godsXzLQwe"
      },
      "source": [
        "#loading the data and making ready the global variables\n",
        "df = pd.read_csv(\"data.csv\")\n",
        "x = df['x1']\n",
        "y = df['x2']\n",
        "z= df['x3']"
      ],
      "execution_count": 18,
      "outputs": []
    },
    {
      "cell_type": "code",
      "metadata": {
        "id": "cdtSZyG-Lwov"
      },
      "source": [
        "x_train, x_test, y_train, y_test = train_test_split(x, y, test_size = 0.1, random_state=10)  # inbuilt function\n",
        "x_train, x_test, z_train, z_test = train_test_split(x, z, test_size = 0.1, random_state=10)\n",
        "X=x_train.tolist()\n",
        "Y=y_train.tolist()"
      ],
      "execution_count": 19,
      "outputs": []
    },
    {
      "cell_type": "code",
      "metadata": {
        "id": "45dRlvrWL7F8"
      },
      "source": [
        "Xt=x_test.tolist()\n",
        "Yt=y_test.tolist()\n"
      ],
      "execution_count": 20,
      "outputs": []
    },
    {
      "cell_type": "code",
      "metadata": {
        "id": "IQUJyneqL-2s"
      },
      "source": [
        "train_data = []\n",
        "test_data = []\n",
        "x_axis=[]\n",
        "y_axis=[]\n",
        "centers={} #ultimate optimised centroids\n",
        "colors=['red','blue','yellow','green','orange','purple','pink','black']"
      ],
      "execution_count": 21,
      "outputs": []
    },
    {
      "cell_type": "code",
      "metadata": {
        "id": "x0y3GYVsMCQ4"
      },
      "source": [
        "\n",
        "for i in range(len(x_train)):\n",
        "    train_data.append([X[i], Y[i]])\n",
        "\n",
        "for i in range(len(x_test)):\n",
        "    test_data.append([Xt[i], Yt[i]])"
      ],
      "execution_count": 22,
      "outputs": []
    },
    {
      "cell_type": "code",
      "metadata": {
        "id": "P9ulNRUYMFzS"
      },
      "source": [
        "def random_centroids (x_train,y_train, k):\n",
        "    centroids = []\n",
        "    dummy = list(range(0, len(x_train)))\n",
        "    cen = random.sample(dummy, k)\n",
        "    for i in range(k):\n",
        "        centroids.append([x_train[cen[i]],y_train[cen[i]]])\n",
        "\n",
        "    return centroids"
      ],
      "execution_count": 23,
      "outputs": []
    },
    {
      "cell_type": "code",
      "metadata": {
        "id": "F8_0ReTUMJAr"
      },
      "source": [
        "def clustering(train_data, centroids, k):\n",
        "    clusters = {}\n",
        "    for i in range(k):\n",
        "        clusters[i] = []\n",
        "    for point in train_data:\n",
        "        euc_dist = []\n",
        "        for j in range(k):\n",
        "            dist=distance.euclidean(point,centroids[j])\n",
        "            euc_dist.append(dist)\n",
        "        clusters[euc_dist.index(min(euc_dist))].append(point)\n",
        "    return clusters"
      ],
      "execution_count": 24,
      "outputs": []
    },
    {
      "cell_type": "code",
      "metadata": {
        "id": "f_RpZ0x6MNWS"
      },
      "source": [
        "def new_centroids(clusters):\n",
        "    centroids=[]\n",
        "    x,y=[],[]\n",
        "    for i in clusters:\n",
        "        for j in clusters[i]:\n",
        "            x.append(j[0])\n",
        "            y.append(j[1])\n",
        "        centroids.append([np.mean(x),np.mean(y)])\n",
        "    return centroids"
      ],
      "execution_count": 25,
      "outputs": []
    },
    {
      "cell_type": "code",
      "metadata": {
        "id": "kRjWxct-MQnO"
      },
      "source": [
        "def calc_varience(clusters,centroids):\n",
        "\n",
        "    sum = 0\n",
        "    for i in clusters:\n",
        "        for j in (clusters[i]):\n",
        "            sum += (distance.euclidean(j,centroids[i]))\n",
        "    sum /= len(centroids)\n",
        "    return sum"
      ],
      "execution_count": 26,
      "outputs": []
    },
    {
      "cell_type": "code",
      "metadata": {
        "id": "46B0YkRiMTtk"
      },
      "source": [
        "def elbow(x_axis,y_axis):\n",
        "    plt.plot(x_axis,y_axis)\n",
        "    plt.xlabel(\"Number Of Clusters \")\n",
        "    plt.ylabel(\"Sum Of Squared Error\")\n",
        "    plt.title(\"ELBOW GRAPH\")\n",
        "    plt.show()"
      ],
      "execution_count": 27,
      "outputs": []
    },
    {
      "cell_type": "code",
      "metadata": {
        "id": "mn5diJsmMWgZ"
      },
      "source": [
        "\n",
        "def plot(num):\n",
        "    centroids=centers[num]\n",
        "    clusters=clustering(train_data, centroids, num)\n",
        "    for i in clusters:\n",
        "        for j in clusters[i]:\n",
        "            plt.scatter(j[0],j[1],c=colors[i])\n",
        "    plt.show()"
      ],
      "execution_count": 28,
      "outputs": []
    },
    {
      "cell_type": "code",
      "metadata": {
        "id": "WDTsrGpuMZK7"
      },
      "source": [
        "def error(optimum,centroids):\n",
        "    test_values1 = z_test.tolist()\n",
        "    test_predicted = []\n",
        "    euc_dist=[]\n",
        "    percentage_of_accuracy=[]\n",
        "    for i in range(len(test_data)):\n",
        "        for j in range(optimum):\n",
        "            dist = distance.euclidean(test_data[i], centroids[j])\n",
        "            euc_dist.append(dist)\n",
        "\n",
        "        test_predicted.append(euc_dist.index(min(euc_dist)))\n",
        "\n",
        "    for l in range(1,4):\n",
        "        test_values=[i+l for i in test_values1]\n",
        "        for z in test_values:\n",
        "            if test_values[z]==4:\n",
        "                test_values[z]=0\n",
        "\n",
        "        percentage_of_accuracy.append(err(test_values, test_predicted))\n",
        "    return max(percentage_of_accuracy)"
      ],
      "execution_count": 29,
      "outputs": []
    },
    {
      "cell_type": "code",
      "metadata": {
        "id": "lLzv4205MdZM"
      },
      "source": [
        "def k_means(train_data):\n",
        "    for k in range(2,10):\n",
        "        var = []\n",
        "        cent=[]\n",
        "        for i in range(9):\n",
        "            centroids = random_centroids(X,Y, k)\n",
        "\n",
        "            for j in range(10):\n",
        "                clusters = clustering(train_data, centroids, k)\n",
        "                prev_centroids = centroids\n",
        "                centroids = new_centroids(clusters)\n",
        "                var.append(calc_varience(clusters,prev_centroids))\n",
        "                cent.append(prev_centroids)\n",
        "            centers[k]=cent[var.index(min(var))]\n",
        "\n",
        "        y_axis.append(min(var))\n",
        "        x_axis.append(k)\n",
        "\n",
        "\n",
        "    elbow(x_axis,y_axis)\n",
        "\n",
        "    chosen=int(input(\"Enter you preferred no of Clusters?\"))\n",
        "    print(\"The error percentage is: \" + str(100*error(chosen,centers[chosen])))\n",
        "    plot(chosen)  \n"
      ],
      "execution_count": 30,
      "outputs": []
    },
    {
      "cell_type": "code",
      "metadata": {
        "colab": {
          "base_uri": "https://localhost:8080/",
          "height": 579
        },
        "id": "HM_HeHZ6MjQ8",
        "outputId": "313f0476-8048-4857-bb02-567e79bb0534"
      },
      "source": [
        "k_means(train_data)\n"
      ],
      "execution_count": 31,
      "outputs": [
        {
          "output_type": "display_data",
          "data": {
            "image/png": "[encoded data removed]",
            "text/plain": [
              "<Figure size 432x288 with 1 Axes>"
            ]
          },
          "metadata": {
            "tags": [],
            "needs_background": "light"
          }
        },
        {
          "output_type": "stream",
          "text": [
            "Enter you preferred no of Clusters?4\n",
            "The error percentage is: 30.0\n"
          ],
          "name": "stdout"
        },
        {
          "output_type": "display_data",
          "data": {
            "image/png": "[encoded data removed]",
            "text/plain": [
              "<Figure size 432x288 with 1 Axes>"
            ]
          },
          "metadata": {
            "tags": [],
            "needs_background": "light"
          }
        }
      ]
    },
    {
      "cell_type": "code",
      "metadata": {
        "id": "Hr7EOJ-OMlq_"
      },
      "source": [
        ""
      ],
      "execution_count": null,
      "outputs": []
    }
  ]
}